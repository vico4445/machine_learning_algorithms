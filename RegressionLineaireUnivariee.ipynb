{
 "cells": [
  {
   "cell_type": "code",
   "execution_count": 1,
   "metadata": {
    "ExecuteTime": {
     "end_time": "2019-11-26T07:37:36.907896Z",
     "start_time": "2019-11-26T07:37:36.671528Z"
    }
   },
   "outputs": [],
   "source": [
    "import numpy as np\n",
    "\n",
    "N = 10000\n",
    "\n",
    "# Création d'un jeu d'enrainement\n",
    "X = np.random.rand(N, 1) # On tire un nombre random de X\n",
    "e = np.random.normal(0, 1, (N, 1)) # bruit\n",
    "\n",
    "y = 5 * X + 60  + e # On créer les valeurs de Y en sachant l'équation qui les lie à X"
   ]
  },
  {
   "cell_type": "code",
   "execution_count": 2,
   "metadata": {
    "ExecuteTime": {
     "end_time": "2019-11-26T07:37:37.350710Z",
     "start_time": "2019-11-26T07:37:36.909890Z"
    }
   },
   "outputs": [
    {
     "data": {
      "text/plain": [
       "[<matplotlib.lines.Line2D at 0x21bc749ed30>]"
      ]
     },
     "execution_count": 2,
     "metadata": {},
     "output_type": "execute_result"
    }
   ],
   "source": [
    "import matplotlib.pyplot as plt\n",
    "\n",
    "plt.figure(figsize=(20,5))\n",
    "plt.plot(X, y, 'o')"
   ]
  },
  {
   "cell_type": "markdown",
   "metadata": {},
   "source": [
    "# Avec scikit"
   ]
  },
  {
   "cell_type": "code",
   "execution_count": 86,
   "metadata": {
    "ExecuteTime": {
     "end_time": "2019-11-25T13:08:04.819907Z",
     "start_time": "2019-11-25T13:08:04.812432Z"
    }
   },
   "outputs": [
    {
     "name": "stdout",
     "output_type": "stream",
     "text": [
      "coefficents are [[0.74616798]] and constante is [10.4155854]\n"
     ]
    }
   ],
   "source": [
    "from sklearn.linear_model import LinearRegression\n",
    "\n",
    "reg = LinearRegression().fit(X, y)\n",
    "print('coefficents are {} and constante is {}'.format(reg.coef_, reg.intercept_))"
   ]
  },
  {
   "cell_type": "markdown",
   "metadata": {},
   "source": [
    "# A la main"
   ]
  },
  {
   "cell_type": "code",
   "execution_count": 3,
   "metadata": {
    "ExecuteTime": {
     "end_time": "2019-11-26T07:37:39.652049Z",
     "start_time": "2019-11-26T07:37:39.636091Z"
    }
   },
   "outputs": [],
   "source": [
    "theta = np.array([np.random.normal(0, 1), np.random.normal(0, 1)])\n",
    "\n",
    "# Fonction de coût\n",
    "X_with_constant = np.concatenate((X, np.ones(X.shape)), axis=1) # Add 1 consant to X to be able to multiply by (theta1, theta0)\n",
    "J = sum(pow(np.reshape(np.dot(X_with_constant, theta), (-1, 1)) - y , 2))\n",
    "J = 1/(2*len(y)) * J # Normalize to avoid impact of population loss function"
   ]
  },
  {
   "cell_type": "code",
   "execution_count": 77,
   "metadata": {
    "ExecuteTime": {
     "end_time": "2019-11-26T07:10:29.459017Z",
     "start_time": "2019-11-26T07:10:29.446030Z"
    }
   },
   "outputs": [
    {
     "data": {
      "text/plain": [
       "array([1871.37666241])"
      ]
     },
     "execution_count": 77,
     "metadata": {},
     "output_type": "execute_result"
    }
   ],
   "source": [
    "def gradient_descent(theta):\n",
    "    theta = theta + "
   ]
  },
  {
   "cell_type": "code",
   "execution_count": 4,
   "metadata": {
    "ExecuteTime": {
     "end_time": "2019-11-26T07:37:42.312624Z",
     "start_time": "2019-11-26T07:37:42.303647Z"
    }
   },
   "outputs": [],
   "source": [
    "dJ_theta0 = 1/(2*len(y)) * sum(2*(np.reshape(np.dot(X_with_constant, theta), (-1, 1)) - y))"
   ]
  },
  {
   "cell_type": "code",
   "execution_count": 5,
   "metadata": {
    "ExecuteTime": {
     "end_time": "2019-11-26T07:37:44.568981Z",
     "start_time": "2019-11-26T07:37:44.563994Z"
    }
   },
   "outputs": [
    {
     "data": {
      "text/plain": [
       "array([-61.86008806])"
      ]
     },
     "execution_count": 5,
     "metadata": {},
     "output_type": "execute_result"
    }
   ],
   "source": [
    "dJ_theta0"
   ]
  }
 ],
 "metadata": {
  "kernelspec": {
   "display_name": "Python 3",
   "language": "python",
   "name": "python3"
  },
  "language_info": {
   "codemirror_mode": {
    "name": "ipython",
    "version": 3
   },
   "file_extension": ".py",
   "mimetype": "text/x-python",
   "name": "python",
   "nbconvert_exporter": "python",
   "pygments_lexer": "ipython3",
   "version": "3.6.8"
  }
 },
 "nbformat": 4,
 "nbformat_minor": 2
}
